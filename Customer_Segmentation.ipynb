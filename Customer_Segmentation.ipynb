{
 "cells": [
  {
   "cell_type": "markdown",
   "metadata": {},
   "source": [
    "# Customer Segmentation using K-Means"
   ]
  },
  {
   "cell_type": "code",
   "metadata": {},
   "source": [
    "import pandas as pd\n",
    "import matplotlib.pyplot as plt\n",
    "from sklearn.cluster import KMeans"
   ]
  },
  {
   "cell_type": "code",
   "metadata": {},
   "source": [
    "# Dataset\n",
    "data = {\n",
    "    'CustomerID': [1,2,3,4,5,6,7,8,9,10],\n",
    "    'Annual Income (k$)': [15, 16, 17, 18, 19, 20, 21, 22, 23, 24],\n",
    "    'Spending Score (1-100)': [39, 81, 6, 77, 40, 76, 6, 94, 3, 72]\n",
    "}\n",
    "df = pd.DataFrame(data)\n",
    "df.head()"
   ]
  },
  {
   "cell_type": "code",
   "metadata": {},
   "source": [
    "# Visualize Data\n",
    "plt.scatter(df['Annual Income (k$)'], df['Spending Score (1-100)'])\n",
    "plt.xlabel('Annual Income (k$)')\n",
    "plt.ylabel('Spending Score')\n",
    "plt.show()"
   ]
  },
  {
   "cell_type": "code",
   "metadata": {},
   "source": [
    "# K-Means Clustering\n",
    "X = df[['Annual Income (k$)', 'Spending Score (1-100)']]\n",
    "kmeans = KMeans(n_clusters=3, random_state=0)\n",
    "kmeans.fit(X)\n",
    "df['Cluster'] = kmeans.labels_\n",
    "df.head()"
   ]
  },
  {
   "cell_type": "code",
   "metadata": {},
   "source": [
    "# Cluster Analysis\n",
    "print(\"Cluster Counts:\")\n",
    "print(df['Cluster'].value_counts())\n",
    "print(\"\\nCluster Averages:\")\n",
    "print(df.groupby('Cluster')[['Annual Income (k$)', 'Spending Score (1-100)']].mean())"
   ]
  },
  {
   "cell_type": "code",
   "metadata": {},
   "source": [
    "# Colorful Cluster Plot\n",
    "plt.figure(figsize=(8,6))\n",
    "for i in range(3):\n",
    "    plt.scatter(\n",
    "        df[df['Cluster']==i]['Annual Income (k$)'],\n",
    "        df[df['Cluster']==i]['Spending Score (1-100)'],\n",
    "        label=f'Cluster {i}'\n",
    "    )\n",
    "plt.xlabel('Annual Income (k$)')\n",
    "plt.ylabel('Spending Score')\n",
    "plt.title('Customer Segmentation')\n",
    "plt.legend()\n",
    "plt.show()"
   ]
  },
  {
   "cell_type": "code",
   "metadata": {},
   "source": [
    "# Optional: Save Result to CSV\n",
    "df.to_csv('Customer_Segmentation_Result.csv', index=False)"
   ]
  }
 ],
 "metadata": {
  "kernelspec": {
   "display_name": "Python 3",
   "language": "python",
   "name": "python3"
  },
  "language_info": {
   "name": "python",
   "version": "3.13"
  }
 },
 "nbformat": 4,
 "nbformat_minor": 9
}
